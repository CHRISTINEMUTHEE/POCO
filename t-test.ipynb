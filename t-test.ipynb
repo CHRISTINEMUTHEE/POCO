{
 "cells": [
  {
   "cell_type": "code",
   "execution_count": 1,
   "metadata": {},
   "outputs": [],
   "source": [
    "import pandas as pd\n",
    "import json\n",
    "from scipy.stats import ttest_ind"
   ]
  },
  {
   "cell_type": "code",
   "execution_count": null,
   "metadata": {},
   "outputs": [
    {
     "name": "stdout",
     "output_type": "stream",
     "text": [
      "\n",
      "Analyzing sample_time...\n",
      "Baseline Mean: 2.812862911370025, Std: 0.7428865961577055\n",
      "Your Data Mean: 2.7330994928199654, Std: 0.7937128535630513\n",
      "\n",
      "Analyzing inference_time...\n",
      "Baseline Mean: 0.07447925105007011, Std: 0.1446160079151\n",
      "Your Data Mean: 0.06251104140992539, Std: 0.03815852609648939\n",
      "\n",
      "Analyzing mesh_generation_time...\n",
      "Baseline Mean: 2.7346324753398905, Std: 0.7268126292328049\n",
      "Your Data Mean: 2.667284468170219, Std: 0.7921096618258832\n",
      "\n",
      "sample_time:\n",
      "  T-statistic: -0.7337035724670911\n",
      "  P-value: 0.46400107837718985\n",
      "  Significant difference: False\n",
      "\n",
      "inference_time:\n",
      "  T-statistic: -0.8001981206582595\n",
      "  P-value: 0.4252792808036442\n",
      "  Significant difference: False\n",
      "\n",
      "mesh_generation_time:\n",
      "  T-statistic: -0.6264743022725087\n",
      "  P-value: 0.5317307932202409\n",
      "  Significant difference: False\n"
     ]
    }
   ],
   "source": [
    "# Load baseline results from Excel file\n",
    "baseline_data = pd.read_excel('inference_timing.xlsx')\n",
    "\n",
    "# Load your results from JSON file\n",
    "with open('inference_timing.json', 'r') as json_file:\n",
    "    your_data = json.load(json_file)\n",
    "\n",
    "your_data_df = pd.DataFrame(your_data['timing_data'])\n",
    "\n",
    "# Map the column names between baseline and JSON data\n",
    "columns_mapping = {\n",
    "    \"sample_time\": \"sample_time\",\n",
    "    \"inference_time\": \"inference_time\",\n",
    "    \"mesh_generation_time\": \"mesh_generation_time\"\n",
    "}\n",
    "\n",
    "# Significance level\n",
    "alpha = 0.05\n",
    "\n",
    "# Results dictionary\n",
    "results = {}\n",
    "\n",
    "# Perform t-tests for each metric\n",
    "for json_col, baseline_col in columns_mapping.items():\n",
    "    print(f\"\\nAnalyzing {json_col}...\")\n",
    "\n",
    "    # Extract and clean data\n",
    "    baseline_times = pd.to_numeric(baseline_data[baseline_col], errors='coerce').dropna()\n",
    "    json_times = pd.to_numeric(your_data_df[json_col], errors='coerce').dropna()\n",
    "\n",
    "    print(f\"Baseline Mean: {baseline_times.mean()}, Std: {baseline_times.std()}\")\n",
    "    print(f\"Your Data Mean: {json_times.mean()}, Std: {json_times.std()}\")\n",
    "\n",
    "    # Check for valid data\n",
    "    if baseline_times.std() == 0 or json_times.std() == 0 or len(baseline_times) < 2 or len(json_times) < 2:\n",
    "        print(f\"Skipping t-test for {json_col} due to insufficient data or constant values.\")\n",
    "        results[json_col] = {\n",
    "            \"t_statistic\": None,\n",
    "            \"p_value\": None,\n",
    "            \"significant_difference\": False\n",
    "        }\n",
    "        continue\n",
    "\n",
    "    # Perform t-test\n",
    "    t_stat, p_value = ttest_ind(json_times, baseline_times, equal_var=False)\n",
    "    results[json_col] = {\n",
    "        \"t_statistic\": t_stat,\n",
    "        \"p_value\": p_value,\n",
    "        \"significant_difference\": p_value < alpha\n",
    "    }\n",
    "\n",
    "# Print results\n",
    "for col, res in results.items():\n",
    "    print(f\"\\n{col}:\")\n",
    "    if res[\"t_statistic\"] is None:\n",
    "        print(\"  T-test not performed due to insufficient data or constant values.\")\n",
    "    else:\n",
    "        print(f\"  T-statistic: {res['t_statistic']}\")\n",
    "        print(f\"  P-value: {res['p_value']}\")\n",
    "        print(f\"  Significant difference: {res['significant_difference']}\")"
   ]
  }
 ],
 "metadata": {
  "kernelspec": {
   "display_name": "Python 3",
   "language": "python",
   "name": "python3"
  },
  "language_info": {
   "codemirror_mode": {
    "name": "ipython",
    "version": 3
   },
   "file_extension": ".py",
   "mimetype": "text/x-python",
   "name": "python",
   "nbconvert_exporter": "python",
   "pygments_lexer": "ipython3",
   "version": "3.11.9"
  }
 },
 "nbformat": 4,
 "nbformat_minor": 2
}
